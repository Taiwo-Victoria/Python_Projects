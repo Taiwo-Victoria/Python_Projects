{
 "cells": [
  {
   "attachments": {},
   "cell_type": "markdown",
   "metadata": {},
   "source": [
    "#                            MINNING TWITTER DATA \n"
   ]
  },
  {
   "attachments": {},
   "cell_type": "markdown",
   "metadata": {},
   "source": [
    "#### Importing the needed library"
   ]
  },
  {
   "cell_type": "code",
   "execution_count": 1,
   "metadata": {},
   "outputs": [],
   "source": [
    "\n",
    "import pandas as pd\n",
    "import snscrape.modules.twitter as sntwitter"
   ]
  },
  {
   "attachments": {},
   "cell_type": "markdown",
   "metadata": {},
   "source": [
    "##### Scrapping the Tweets using #data analysis"
   ]
  },
  {
   "cell_type": "code",
   "execution_count": 2,
   "metadata": {},
   "outputs": [],
   "source": [
    "scrapper = sntwitter.TwitterSearchScraper(\"#data analysis\")\n",
    "\n",
    "tweets = []\n",
    "\n",
    "for i, tweet in enumerate(scrapper.get_items()):\n",
    "    data = [\n",
    "        tweet.date,\n",
    "        tweet.id,\n",
    "        tweet.rawContent,\n",
    "        tweet.user.username,\n",
    "        tweet.likeCount,\n",
    "        tweet.retweetCount,\n",
    "        tweet.url\n",
    "    ]\n",
    "    tweets.append(data)\n",
    "    \n",
    "    if i > 1000:\n",
    "        break\n",
    "    \n",
    "my_tweets = pd.DataFrame(tweets, columns=['date', 'id', 'content', 'username', 'like_count', 'retweet_count', 'url']) # changing from list to a datafrme\n",
    "my_tweets.to_csv('My_Twitter_Data', index=False) # saving to a csv file"
   ]
  },
  {
   "cell_type": "code",
   "execution_count": 3,
   "metadata": {},
   "outputs": [
    {
     "data": {
      "text/plain": [
       "1002"
      ]
     },
     "execution_count": 3,
     "metadata": {},
     "output_type": "execute_result"
    }
   ],
   "source": [
    "len(tweets)"
   ]
  },
  {
   "cell_type": "code",
   "execution_count": 4,
   "metadata": {},
   "outputs": [
    {
     "data": {
      "text/html": [
       "<div>\n",
       "<style scoped>\n",
       "    .dataframe tbody tr th:only-of-type {\n",
       "        vertical-align: middle;\n",
       "    }\n",
       "\n",
       "    .dataframe tbody tr th {\n",
       "        vertical-align: top;\n",
       "    }\n",
       "\n",
       "    .dataframe thead th {\n",
       "        text-align: right;\n",
       "    }\n",
       "</style>\n",
       "<table border=\"1\" class=\"dataframe\">\n",
       "  <thead>\n",
       "    <tr style=\"text-align: right;\">\n",
       "      <th></th>\n",
       "      <th>date</th>\n",
       "      <th>id</th>\n",
       "      <th>content</th>\n",
       "      <th>username</th>\n",
       "      <th>like_count</th>\n",
       "      <th>retweet_count</th>\n",
       "      <th>url</th>\n",
       "    </tr>\n",
       "  </thead>\n",
       "  <tbody>\n",
       "    <tr>\n",
       "      <th>0</th>\n",
       "      <td>2023-03-08 01:44:54+00:00</td>\n",
       "      <td>1633282613027667968</td>\n",
       "      <td>You no longer need to be a data scientist to a...</td>\n",
       "      <td>DataMotto</td>\n",
       "      <td>0</td>\n",
       "      <td>0</td>\n",
       "      <td>https://twitter.com/DataMotto/status/163328261...</td>\n",
       "    </tr>\n",
       "    <tr>\n",
       "      <th>1</th>\n",
       "      <td>2023-03-07 23:58:02+00:00</td>\n",
       "      <td>1633255719473676288</td>\n",
       "      <td>Time Series Analysis in R. Learn the core tech...</td>\n",
       "      <td>DD_Bun_</td>\n",
       "      <td>6</td>\n",
       "      <td>1</td>\n",
       "      <td>https://twitter.com/DD_Bun_/status/16332557194...</td>\n",
       "    </tr>\n",
       "    <tr>\n",
       "      <th>2</th>\n",
       "      <td>2023-03-07 23:40:35+00:00</td>\n",
       "      <td>1633251329010466816</td>\n",
       "      <td>Therabody's smart glasses are nice, but not ne...</td>\n",
       "      <td>SuriyaSubraman</td>\n",
       "      <td>0</td>\n",
       "      <td>0</td>\n",
       "      <td>https://twitter.com/SuriyaSubraman/status/1633...</td>\n",
       "    </tr>\n",
       "    <tr>\n",
       "      <th>3</th>\n",
       "      <td>2023-03-07 21:25:11+00:00</td>\n",
       "      <td>1633217250999291904</td>\n",
       "      <td>North American oil and gas firms need new tech...</td>\n",
       "      <td>kashyappuranik</td>\n",
       "      <td>1</td>\n",
       "      <td>0</td>\n",
       "      <td>https://twitter.com/kashyappuranik/status/1633...</td>\n",
       "    </tr>\n",
       "    <tr>\n",
       "      <th>4</th>\n",
       "      <td>2023-03-07 20:56:54+00:00</td>\n",
       "      <td>1633210133865185280</td>\n",
       "      <td>North American oil and gas firms need new tech...</td>\n",
       "      <td>GarryStanis</td>\n",
       "      <td>0</td>\n",
       "      <td>0</td>\n",
       "      <td>https://twitter.com/GarryStanis/status/1633210...</td>\n",
       "    </tr>\n",
       "  </tbody>\n",
       "</table>\n",
       "</div>"
      ],
      "text/plain": [
       "                       date                   id  \\\n",
       "0 2023-03-08 01:44:54+00:00  1633282613027667968   \n",
       "1 2023-03-07 23:58:02+00:00  1633255719473676288   \n",
       "2 2023-03-07 23:40:35+00:00  1633251329010466816   \n",
       "3 2023-03-07 21:25:11+00:00  1633217250999291904   \n",
       "4 2023-03-07 20:56:54+00:00  1633210133865185280   \n",
       "\n",
       "                                             content        username  \\\n",
       "0  You no longer need to be a data scientist to a...       DataMotto   \n",
       "1  Time Series Analysis in R. Learn the core tech...         DD_Bun_   \n",
       "2  Therabody's smart glasses are nice, but not ne...  SuriyaSubraman   \n",
       "3  North American oil and gas firms need new tech...  kashyappuranik   \n",
       "4  North American oil and gas firms need new tech...     GarryStanis   \n",
       "\n",
       "   like_count  retweet_count  \\\n",
       "0           0              0   \n",
       "1           6              1   \n",
       "2           0              0   \n",
       "3           1              0   \n",
       "4           0              0   \n",
       "\n",
       "                                                 url  \n",
       "0  https://twitter.com/DataMotto/status/163328261...  \n",
       "1  https://twitter.com/DD_Bun_/status/16332557194...  \n",
       "2  https://twitter.com/SuriyaSubraman/status/1633...  \n",
       "3  https://twitter.com/kashyappuranik/status/1633...  \n",
       "4  https://twitter.com/GarryStanis/status/1633210...  "
      ]
     },
     "execution_count": 4,
     "metadata": {},
     "output_type": "execute_result"
    }
   ],
   "source": [
    "my_tweets.head()"
   ]
  },
  {
   "cell_type": "code",
   "execution_count": 5,
   "metadata": {},
   "outputs": [
    {
     "data": {
      "text/plain": [
       "(1002, 7)"
      ]
     },
     "execution_count": 5,
     "metadata": {},
     "output_type": "execute_result"
    }
   ],
   "source": [
    "my_tweets.shape"
   ]
  },
  {
   "cell_type": "code",
   "execution_count": null,
   "metadata": {},
   "outputs": [],
   "source": []
  },
  {
   "cell_type": "code",
   "execution_count": null,
   "metadata": {},
   "outputs": [],
   "source": []
  }
 ],
 "metadata": {
  "kernelspec": {
   "display_name": "Python 3",
   "language": "python",
   "name": "python3"
  },
  "language_info": {
   "codemirror_mode": {
    "name": "ipython",
    "version": 3
   },
   "file_extension": ".py",
   "mimetype": "text/x-python",
   "name": "python",
   "nbconvert_exporter": "python",
   "pygments_lexer": "ipython3",
   "version": "3.10.10"
  },
  "orig_nbformat": 4
 },
 "nbformat": 4,
 "nbformat_minor": 2
}
