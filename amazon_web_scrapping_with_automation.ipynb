{
 "cells": [
  {
   "cell_type": "markdown",
   "metadata": {},
   "source": [
    "### Import Libraries"
   ]
  },
  {
   "cell_type": "code",
   "execution_count": 1,
   "metadata": {},
   "outputs": [],
   "source": [
    "from bs4 import BeautifulSoup\n",
    "import requests\n",
    "import time\n",
    "import datetime\n",
    "import csv\n",
    "\n",
    "import smtplib #for sending emails to yourself"
   ]
  },
  {
   "cell_type": "code",
   "execution_count": 2,
   "metadata": {},
   "outputs": [],
   "source": [
    "# creating a timestamp of when the data was collected\n",
    "\n",
    "today = datetime.date.today()"
   ]
  },
  {
   "cell_type": "code",
   "execution_count": null,
   "metadata": {},
   "outputs": [],
   "source": [
    "# connect to website\n",
    "\n",
    "URL = 'https://www.amazon.com/Funny-Data-Systems-Business-Analyst/dp/B07FNW9FGJ/ref=sr_1_1?keywords=funny+data+analyst+business&qid=1678438158&s=beauty-intl-ship&sr=1-1'\n",
    "\n",
    "headers = {\"User-Agent\": \"Mozilla/5.0 (Windows NT 10.0; Win64; x64) AppleWebKit/537.36 (KHTML, like Gecko) Chrome/110.0.0.0 Safari/537.36\"}\n",
    "\n",
    "page = requests.get(URL, headers=headers)\n",
    "\n",
    "soup1 = BeautifulSoup(page.content, 'html.parser')\n",
    "\n",
    "soup2 = BeautifulSoup(soup1.prettify(), 'html.parser') #making a it more formated\n",
    "try:\n",
    "    title = soup2.find(id = 'productTitle').get_text()\n",
    "\n",
    "    price = soup2.find(id = 'priceblock_ourprice').get_text()\n",
    "    \n",
    "except AttributeError:\n",
    "    title = \"\"\n",
    "    price = \"\"\n",
    "\n",
    "price = price.strip()[1:] #removing unwanted spaces and the $ sign\n",
    "title = title.strip()   #removing unwanted spaces"
   ]
  },
  {
   "cell_type": "code",
   "execution_count": 5,
   "metadata": {},
   "outputs": [
    {
     "name": "stdout",
     "output_type": "stream",
     "text": [
      "\n",
      "\n"
     ]
    }
   ],
   "source": [
    "print(title)\n",
    "print(price)"
   ]
  },
  {
   "cell_type": "code",
   "execution_count": null,
   "metadata": {},
   "outputs": [],
   "source": [
    "# writing a script to save into a csv file\n",
    "\n",
    "import csv\n",
    "\n",
    "header = ['Date', 'Title', 'Price']\n",
    "\n",
    "data = [today,title, price]\n",
    "\n",
    "with open('Amazon_Web_Scapping_Dataset.csv', 'w', newline='', encoding = 'UTF8') as f:\n",
    "    writer = csv.writer(f)\n",
    "    writer.writerow(header) #creating the csv header\n",
    "    writer.writerow(data) #creating the data"
   ]
  },
  {
   "cell_type": "code",
   "execution_count": null,
   "metadata": {},
   "outputs": [],
   "source": [
    "# Now appending data to the csv file\n",
    "\n",
    "with open('Amazon_Web_Scapping_Dataset.csv', 'a+', newline='', encoding = 'UTF8') as f:\n",
    "    writer = csv.writer(f)\n",
    "    writer.writerow(data)"
   ]
  },
  {
   "cell_type": "code",
   "execution_count": null,
   "metadata": {},
   "outputs": [],
   "source": [
    "\n",
    "def send_mail():\n",
    "    server = smtplib.SMTP_SSL('smtp.gmail.com', 465)\n",
    "    server.ehlo()\n",
    "    server.ehlo()\n",
    "    server.login('taiwokola2020@gmail.com', 'password')\n",
    "    \n",
    "    subject = 'The shirt you want is below $15!'\n",
    "    body = 'Hello Victoria, This is the amount you have been waiting for. Now is your chance to purchase the shirt you always wanted.'\n",
    "    \n",
    "    msg = f'Subject: {subject}\\n\\n{body}'\n",
    "    \n",
    "    server.sendmail(\n",
    "        'taiwokola2020@gmail.com',\n",
    "        msg\n",
    "        \n",
    "    )"
   ]
  },
  {
   "cell_type": "code",
   "execution_count": null,
   "metadata": {},
   "outputs": [],
   "source": [
    "def check_price():\n",
    "    URL = ''\n",
    "\n",
    "    headers = ''\n",
    "\n",
    "    page = requests.get(URL, headers=headers)\n",
    "\n",
    "    soup1 = BeautifulSoup(page.content, 'html.parser')\n",
    "\n",
    "    soup2 = BeautifulSoup(soup1.prettify(), 'html.parser') #making a it more formated\n",
    "\n",
    "    title = soup2.find(id = 'productTitle').get_text()\n",
    "\n",
    "    price = soup2.find(id = 'priceblock_ourprice').get_text()\n",
    "\n",
    "    price = price.strip()[1:] #removing unwanted spaces and the $ sign\n",
    "    title = title.strip()   #removing unwanted spaces\n",
    "    \n",
    "    today = datetime.date.today()\n",
    "    \n",
    "    header = ['Date', 'Title', 'Price']\n",
    "\n",
    "    data = [today,title, price]\n",
    "    \n",
    "    with open('Amazon_Web_Scapping_Dataset.csv', 'a+', newline='', encoding = 'UTF8') as f:\n",
    "        writer = csv.writer(f)\n",
    "        writer.writerow(header) #creating the csv header\n",
    "        writer.writerow(data) #creating the data\n",
    "        \n",
    "    if(price < 14):\n",
    "        send_mail()"
   ]
  },
  {
   "cell_type": "code",
   "execution_count": null,
   "metadata": {},
   "outputs": [],
   "source": [
    "while(True):\n",
    "    check_price()\n",
    "    time.sleep(5) #run through the process every 5 seconds"
   ]
  },
  {
   "cell_type": "code",
   "execution_count": null,
   "metadata": {},
   "outputs": [],
   "source": [
    "import pandas as pd\n",
    "\n",
    "df = pd.read_csv(r'C')\n",
    "\n",
    "df.head()"
   ]
  }
 ],
 "metadata": {
  "kernelspec": {
   "display_name": "Python 3",
   "language": "python",
   "name": "python3"
  },
  "language_info": {
   "codemirror_mode": {
    "name": "ipython",
    "version": 3
   },
   "file_extension": ".py",
   "mimetype": "text/x-python",
   "name": "python",
   "nbconvert_exporter": "python",
   "pygments_lexer": "ipython3",
   "version": "3.10.10"
  },
  "orig_nbformat": 4
 },
 "nbformat": 4,
 "nbformat_minor": 2
}
